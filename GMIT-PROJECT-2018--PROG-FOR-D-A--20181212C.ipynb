{
 "cells": [
  {
   "cell_type": "markdown",
   "metadata": {},
   "source": [
    "# PROGRAMMING FOR DATA ANALYSIS\n",
    "##  Project 2018\n",
    "### DATE DUE ON/BEFORE 14 DEC 2018"
   ]
  },
  {
   "cell_type": "markdown",
   "metadata": {},
   "source": [
    "Problem statement\n",
    "\n",
    "It is requested to investigate any relationship between the touchdown distance of the aircraft known as the X-15 and the following parameters, Indicated airspeed, groundspeed and Distance to touchdown at 1 mile to landing.\n",
    "\n",
    "It is envisaged that as a result of energy in the aircraft, that the landing distance will vary.\n",
    "Energy in the aircraft will be proportional to the Vertical velocity, Airspeed and Groundspeed and in turn the energy in the aircraft needs to be 'depeleted sufficiently' to allow the aircraft to land.\n",
    "The measurement of this is the distance used during the slideout (usually known as rollout on wheels)\n",
    "\n",
    "Data is supplied in the document 'STATISTICAL ANALYSIS OF LANDING CONTACT CONDITIONS OF THE X-15 AIRPLANE' at the URL https://ntrs.nasa.gov/archive/nasa/casi.ntrs.nasa.gov/19670005606.pdf "
   ]
  },
  {
   "cell_type": "markdown",
   "metadata": {},
   "source": [
    "## Reason for very late start.\n",
    "Delayed start due to not knowing what to pick as a subject that would not be work related and breach confidentiality at all and personal/work-related reasons.\n",
    "The Datasets that I would be used to which would be interesting to investigate would not be allowed to be put up on GITHUB for anyone to download - even if the datsets were 'shifted/translated' along the X-axis or scaled up/down the Y-axis.\n",
    "It was a long time before I found this PDF file on the NASA Technical website which provided sufficient data to create suitable datasets.\n"
   ]
  },
  {
   "cell_type": "markdown",
   "metadata": {
    "collapsed": true
   },
   "source": [
    "The following parameters are known to be related to the Slideout(rollout) distance.\n",
    "Vertical velocity (\n",
    "Indicated Airspeed at Landing\n",
    "True Groundspeed at Landing\n",
    "\n",
    "\n",
    "It has been found from landing data that the parameters are \n",
    "Page 4 : Vertical Velocity = Average 2 ft/sec, Poisson, Min 1, Max 8 ft/sec  ( 480 ft/min )\n",
    "Page 5 : Indicated Airspeed = 190 knots Normal bell-curve, Min 150, Max 230, SD = 13 knots.\n",
    "Page 6 : True Groundspeed = Centered on 200 knots Normal bell-curve, Min 160, Max 240, SD = 13 knots.\n",
    "and\n",
    "Page 10: Slideout (Rollout) distance  =  Centered on 6000 feet Normal, Min 3000, max 9000, SD = 1000 feet\n",
    "\n"
   ]
  },
  {
   "cell_type": "code",
   "execution_count": 15,
   "metadata": {},
   "outputs": [
    {
     "data": {
      "image/png": "[encoded data removed]",
      "text/plain": [
       "<matplotlib.figure.Figure at 0xbf3b550>"
      ]
     },
     "metadata": {},
     "output_type": "display_data"
    }
   ],
   "source": [
    "import numpy as np\n",
    "import csv\n",
    "import math\n",
    "import matplotlib.pyplot as plt\n",
    "\n",
    "# ref #1\n",
    "import seaborn as sb\n",
    "import scipy.stats as stats\n",
    "\n",
    "# import functionality for computing some statistics\n",
    "import statistics \n",
    "\n",
    "# Setup the data arrays/lists\n",
    "# VerticalSpeed is usually known as VerticalSpeed nowadays - the name VSI for the indicator\n",
    "VerticalVelocity = []\n",
    "IndicAirspeed = []\n",
    "TrueAirspeed  = []\n",
    "SlideoutDistance = []\n",
    "Dataset = []\n",
    "n = 200\n",
    "\n",
    "# Populate the VerticalVelocity data list\n",
    "# ref #3\n",
    "averg = 2\n",
    "VerticalVelocity = np.random.poisson(averg, n)\n",
    "#VSgraph = plt.hist(VerticalVelocity, 14, density=True)\n",
    "#plt.show()\n",
    "\n",
    "# setup the Indicated airspeed dataset\n",
    "# ref #4\n",
    "center = 190\n",
    "sd = 13\n",
    "IndAirspeed = np.random.normal(center, sd, n)\n",
    "#IASgraph = plt.hist(IndAirspeed, 14, density=True)\n",
    "#plt.show()\n",
    "\n",
    "center = 200\n",
    "sd = 13\n",
    "TrueGroundspeed = np.random.normal(center, sd, n)\n",
    "#GNDSPDgraph = plt.hist(TrueGroundspeed, 14, density=True)\n",
    "#plt.show()\n",
    "\n",
    "center = 6000\n",
    "sd = 1000\n",
    "SlideoutDistance = np.random.normal(center, sd, n)\n",
    "#SlideDistgraph = plt.hist(SlideoutDistance, 14, density=True)\n",
    "#plt.show()\n",
    "\n",
    "# now to generate a single dataset with each element of the three input giving a simulated output the slideout distance\n"
   ]
  },
  {
   "cell_type": "markdown",
   "metadata": {},
   "source": [
    "References: \n",
    "#1, https://www.tutorialspoint.com/python/python_poisson_distribution.htm visited: 20181212\n",
    "\n",
    "#2, https://stackoverflow.com/questions/24452594/fitting-a-poisson-distribution-to-data-in-statsmodels visited: 20181212\n",
    "\n",
    "#3, https://docs.scipy.org/doc/numpy/reference/generated/numpy.random.poisson.html visited: 20181212\n",
    "\n",
    "#4, https://docs.scipy.org/doc/numpy/reference/generated/numpy.random.normal.html#numpy.random.normal visited: 20181212\n",
    "\n"
   ]
  }
 ],
 "metadata": {
  "kernelspec": {
   "display_name": "Python 3",
   "language": "python",
   "name": "python3"
  },
  "language_info": {
   "codemirror_mode": {
    "name": "ipython",
    "version": 3
   },
   "file_extension": ".py",
   "mimetype": "text/x-python",
   "name": "python",
   "nbconvert_exporter": "python",
   "pygments_lexer": "ipython3",
   "version": "3.6.3"
  }
 },
 "nbformat": 4,
 "nbformat_minor": 2
}
