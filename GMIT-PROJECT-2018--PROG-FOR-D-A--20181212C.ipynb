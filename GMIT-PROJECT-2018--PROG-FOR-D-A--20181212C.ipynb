{
 "cells": [
  {
   "cell_type": "markdown",
   "metadata": {},
   "source": [
    "# PROGRAMMING FOR DATA ANALYSIS\n",
    "##  Project 2018\n",
    "### DATE DUE ON/BEFORE 14 DEC 2018"
   ]
  },
  {
   "cell_type": "markdown",
   "metadata": {},
   "source": [
    "Problem statement\n",
    "\n",
    "It is requested to investigate any relationship between the touchdown distance of the aircraft known as the X-15 and the following parameters, Indicated airspeed, groundspeed and Distance to touchdown at 1 mile to landing.\n",
    "\n",
    "It is envisaged that as a result of energy in the aircraft, that the landing distance will vary.\n",
    "\n",
    "Data is supplied in the document 'STATISTICAL ANALYSIS OF LANDING CONTACT CONDITIONS OF THE X-15 AIRPLANE' at the URL https://ntrs.nasa.gov/archive/nasa/casi.ntrs.nasa.gov/19670005606.pdf "
   ]
  },
  {
   "cell_type": "markdown",
   "metadata": {},
   "source": [
    "### Delayed start due to not knowing what to pick that would not be work related and breach confidentiality at all and personal/work-related reasons"
   ]
  },
  {
   "cell_type": "markdown",
   "metadata": {
    "collapsed": true
   },
   "source": [
    "The following paramters are known to be related to the Slideout(rollout) distance.\n",
    "Vertical velocity (\n",
    "Indicated Airspeed at Landing\n",
    "True Groundspeed at Landing\n",
    "\n",
    "\n",
    "It has been found from landing data that the parameters are \n",
    "True Groundspeed = Centred on 200 knots Normal, SD = 13 knots.\n",
    "Indicated Airspeed = 190 knots Normal, SD = 13 knots.\n",
    "Vertical Velocity = Average 2 ft/sec, Poisson\n",
    "Slideout (Rollout) distance  =  Centred on 6000 feet Normal, SD = 1000 feet\n"
   ]
  },
  {
   "cell_type": "markdown",
   "metadata": {},
   "source": []
  }
 ],
 "metadata": {
  "kernelspec": {
   "display_name": "Python 3",
   "language": "python",
   "name": "python3"
  },
  "language_info": {
   "codemirror_mode": {
    "name": "ipython",
    "version": 3
   },
   "file_extension": ".py",
   "mimetype": "text/x-python",
   "name": "python",
   "nbconvert_exporter": "python",
   "pygments_lexer": "ipython3",
   "version": "3.6.3"
  }
 },
 "nbformat": 4,
 "nbformat_minor": 2
}
