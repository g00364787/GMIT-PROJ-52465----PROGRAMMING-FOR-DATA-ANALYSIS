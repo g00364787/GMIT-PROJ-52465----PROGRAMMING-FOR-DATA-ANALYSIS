{
 "cells": [
  {
   "cell_type": "markdown",
   "metadata": {},
   "source": [
    "# PROGRAMMING FOR DATA ANALYSIS\n",
    "##  Project 2018\n",
    "### DATE DUE ON/BEFORE 14 DEC 2018"
   ]
  },
  {
   "cell_type": "markdown",
   "metadata": {},
   "source": [
    "Problem statement\n",
    "\n",
    "It is requested to investigate any relationship between the touchdown distance of the aircraft known as the X-15 and the following parameters, Indicated airspeed, groundspeed and Distance to touchdown at 1 mile to landing.\n",
    "\n",
    "It is envisaged that as a result of energy in the aircraft, that the landing distance will vary.\n",
    "\n",
    "Data is supplied in the document 'STATISTICAL ANALYSIS OF LANDING CONTACT CONDITIONS OF THE X-15 AIRPLANE' at the URL https://ntrs.nasa.gov/archive/nasa/casi.ntrs.nasa.gov/19670005606.pdf "
   ]
  },
  {
   "cell_type": "markdown",
   "metadata": {},
   "source": [
    "### Delayed start due to not knowing what to pick that would not be work related and breach confidentiality at all and personal/work-related reasons"
   ]
  },
  {
   "cell_type": "markdown",
   "metadata": {
    "collapsed": true
   },
   "source": [
    "The following paramters are known to be related to the Slideout(rollout) distance.\n",
    "Vertical velocity (\n",
    "Indicated Airspeed at Landing\n",
    "True Groundspeed at Landing\n",
    "\n",
    "\n",
    "It has been found from landing data that the parameters are \n",
    "Page 4 : Vertical Velocity = Average 2 ft/sec, Poisson, Min 1, Max 8 ft/sec  ( 480 ft/min )\n",
    "Page 5 : Indicated Airspeed = 190 knots Normal, Min 150, Max 230, SD = 13 knots.\n",
    "Page 6 : True Groundspeed = Centerd on 200 knots Normal, Min 160, Max 240, SD = 13 knots.\n",
    "and\n",
    "Page 10: Slideout (Rollout) distance  =  Centred on 6000 feet Normal, Min 3000, max 9000, SD = 1000 feet\n",
    "\n"
   ]
  },
  {
   "cell_type": "code",
   "execution_count": null,
   "metadata": {
    "collapsed": true
   },
   "outputs": [],
   "source": [
    "import csv\n",
    "\n",
    "import math\n",
    "\n",
    "import matplotlib.pyplot as plt\n",
    "\n",
    "# import functionality for computing some statistics\n",
    "import statistics\n",
    "\n",
    "# Setup the data arrays/lists\n",
    "VerticalSpeed = []\n",
    "IndicAirspeed = []\n",
    "TrueAirspeed  = []\n",
    "SlideoutDistance = []\n",
    "\n"
   ]
  }
 ],
 "metadata": {
  "kernelspec": {
   "display_name": "Python 3",
   "language": "python",
   "name": "python3"
  },
  "language_info": {
   "codemirror_mode": {
    "name": "ipython",
    "version": 3
   },
   "file_extension": ".py",
   "mimetype": "text/x-python",
   "name": "python",
   "nbconvert_exporter": "python",
   "pygments_lexer": "ipython3",
   "version": "3.6.3"
  }
 },
 "nbformat": 4,
 "nbformat_minor": 2
}
